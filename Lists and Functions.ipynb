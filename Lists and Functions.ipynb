{
 "cells": [
  {
   "cell_type": "code",
   "execution_count": 1,
   "id": "14f01711",
   "metadata": {},
   "outputs": [
    {
     "name": "stdout",
     "output_type": "stream",
     "text": [
      "['mozzarella', 'cinderella', 'salmonella']\n",
      "['MOZZARELLA', 'Cinderella', 'COLLECTING MY NOBEL PRIZE!!!']\n"
     ]
    }
   ],
   "source": [
    "things=[\"mozzarella\",\"cinderella\", \"salmonella\"]\n",
    "\n",
    "print(things) \n",
    "\n",
    "for i, thing in enumerate(things):\n",
    "    if thing == \"cinderella\":\n",
    "        things[i]=thing.capitalize()\n",
    "    if thing == \"mozzarella\":\n",
    "        things[i]=thing.upper()\n",
    "    if thing == \"salmonella\":\n",
    "        things[i]=(\"COLLECTING MY NOBEL PRIZE!!!\")      \n",
    "print (things)\n"
   ]
  },
  {
   "cell_type": "code",
   "execution_count": 3,
   "id": "16842d82",
   "metadata": {},
   "outputs": [
    {
     "name": "stdout",
     "output_type": "stream",
     "text": [
      "['Harry', 'Ron', 'Hermione']\n"
     ]
    }
   ],
   "source": [
    "names = ['Harry','Ron','Hermione']\n",
    "\n",
    "def good():\n",
    "    print(names)\n",
    "\n",
    "good()\n"
   ]
  },
  {
   "cell_type": "code",
   "execution_count": 4,
   "id": "2d554934",
   "metadata": {},
   "outputs": [
    {
     "name": "stdout",
     "output_type": "stream",
     "text": [
      "5\n"
     ]
    }
   ],
   "source": [
    "def get_odds():\n",
    "    for number in range(10):\n",
    "        if number %2 != 0:\n",
    "         yield number\n",
    "\n",
    "count = 0 \n",
    "\n",
    "for odd_number in get_odds():\n",
    "    count += 1 \n",
    "    if count==3:\n",
    "        print(odd_number)\n",
    "        break"
   ]
  },
  {
   "cell_type": "code",
   "execution_count": null,
   "id": "42430242",
   "metadata": {},
   "outputs": [],
   "source": []
  }
 ],
 "metadata": {
  "kernelspec": {
   "display_name": "Python 3 (ipykernel)",
   "language": "python",
   "name": "python3"
  },
  "language_info": {
   "codemirror_mode": {
    "name": "ipython",
    "version": 3
   },
   "file_extension": ".py",
   "mimetype": "text/x-python",
   "name": "python",
   "nbconvert_exporter": "python",
   "pygments_lexer": "ipython3",
   "version": "3.11.4"
  }
 },
 "nbformat": 4,
 "nbformat_minor": 5
}
