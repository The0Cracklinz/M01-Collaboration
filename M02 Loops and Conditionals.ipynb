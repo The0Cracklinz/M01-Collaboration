{
 "cells": [
  {
   "cell_type": "code",
   "execution_count": 1,
   "id": "f60146e5",
   "metadata": {},
   "outputs": [
    {
     "name": "stdout",
     "output_type": "stream",
     "text": [
      "too low\n"
     ]
    }
   ],
   "source": [
    "secret=10\n",
    "guess=3\n",
    "if secret < guess: \n",
    "    print (\"too high\")\n",
    "elif secret>guess:\n",
    "    print(\"too low\")\n",
    "else:\n",
    "    print(\"just right\")"
   ]
  },
  {
   "cell_type": "code",
   "execution_count": 3,
   "id": "86020b77",
   "metadata": {},
   "outputs": [
    {
     "name": "stdout",
     "output_type": "stream",
     "text": [
      "pea\n"
     ]
    }
   ],
   "source": [
    "small=True\n",
    "green=True\n",
    "\n",
    "if small and green:\n",
    "    print(\"pea\")\n",
    "elif small and not green :\n",
    "    print(\"cherry\")\n",
    "elif not small and green:\n",
    "    print(\"watermelon\")\n",
    "else:\n",
    "    print (\"pumpkin\")"
   ]
  },
  {
   "cell_type": "code",
   "execution_count": 4,
   "id": "96364a1d",
   "metadata": {},
   "outputs": [
    {
     "name": "stdout",
     "output_type": "stream",
     "text": [
      "3\n",
      "2\n",
      "1\n",
      "0\n"
     ]
    }
   ],
   "source": [
    "for i in [3, 2, 1, 0]:\n",
    "    print(i)"
   ]
  },
  {
   "cell_type": "code",
   "execution_count": 7,
   "id": "fc554e8f",
   "metadata": {},
   "outputs": [
    {
     "name": "stdout",
     "output_type": "stream",
     "text": [
      "0\n",
      "too low\n",
      "1\n",
      "too low\n",
      "2\n",
      "too low\n",
      "3\n",
      "too low\n",
      "4\n",
      "too low\n",
      "5\n",
      "too low\n",
      "6\n",
      "too low\n",
      "7\n",
      "FOUND IT!\n",
      "8\n",
      "oops\n"
     ]
    }
   ],
   "source": [
    "guess_me=7\n",
    "number=0\n",
    "while ((number)!=(guess_me+1)):\n",
    "    print (number)\n",
    "    if (number<guess_me):\n",
    "        print(\"too low\")\n",
    "\n",
    "    if(number==guess_me):\n",
    "        print(\"FOUND IT!\")\n",
    "\n",
    "    number+=1\n",
    "    if (number>guess_me):\n",
    "        print(number)\n",
    "        print(\"oops\")"
   ]
  },
  {
   "cell_type": "code",
   "execution_count": 12,
   "id": "86ddd7aa",
   "metadata": {},
   "outputs": [
    {
     "name": "stdout",
     "output_type": "stream",
     "text": [
      "0\n",
      "too low\n",
      "1\n",
      "too low\n",
      "2\n",
      "too low\n",
      "3\n",
      "too low\n",
      "4\n",
      "too low\n",
      "5\n",
      "found it!\n",
      "6\n",
      "oops\n"
     ]
    }
   ],
   "source": [
    "guess_me=5\n",
    "\n",
    "for number in range(10):\n",
    "    if (number<guess_me):\n",
    "        print (number)\n",
    "        print (\"too low\")\n",
    "    if (number==guess_me):\n",
    "        print (number)\n",
    "        print (\"found it!\")\n",
    "    if (number>guess_me):\n",
    "        print (number)\n",
    "        print (\"oops\")\n",
    "        break"
   ]
  },
  {
   "cell_type": "code",
   "execution_count": null,
   "id": "eac83cbb",
   "metadata": {},
   "outputs": [],
   "source": []
  }
 ],
 "metadata": {
  "kernelspec": {
   "display_name": "Python 3 (ipykernel)",
   "language": "python",
   "name": "python3"
  },
  "language_info": {
   "codemirror_mode": {
    "name": "ipython",
    "version": 3
   },
   "file_extension": ".py",
   "mimetype": "text/x-python",
   "name": "python",
   "nbconvert_exporter": "python",
   "pygments_lexer": "ipython3",
   "version": "3.11.4"
  }
 },
 "nbformat": 4,
 "nbformat_minor": 5
}
